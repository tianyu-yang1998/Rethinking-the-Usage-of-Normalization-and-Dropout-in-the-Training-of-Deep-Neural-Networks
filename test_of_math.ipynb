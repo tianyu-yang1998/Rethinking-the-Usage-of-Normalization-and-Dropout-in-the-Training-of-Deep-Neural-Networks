{
 "cells": [
  {
   "cell_type": "code",
   "execution_count": 35,
   "id": "5d0d588e",
   "metadata": {},
   "outputs": [],
   "source": [
    "# generate some random, 2D data\n",
    "x = np.random.randn(10000, 30)\n",
    "# and center it\n",
    "x_c = x - np.mean(x, 0)\n",
    "\n",
    "# compute the 2x2 covariance matrix\n",
    "# (remember that covariance matrix is symmetric)\n",
    "sigma = np.cov(x, rowvar=False)\n",
    "# and extract eigenvalues and eigenvectors\n",
    "# using the algorithm for symmetric matrices\n",
    "l,u = np.linalg.eigh(sigma)\n",
    "# NOTE that for symmetric matrices,\n",
    "# eigenvalues and singular values are the same.\n",
    "# u, l, _ = np.linalg.svd(sigma) should thus give equivalent results\n",
    "\n",
    "# rotate the (centered) data to decorrelate it\n",
    "x_rot = np.dot(x_c, u)\n",
    "# check that the covariance is diagonal (indicating decorrelation)\n",
    "np.allclose(np.cov(x_rot.T), np.diag(np.diag(np.cov(x_rot.T))))\n",
    "\n",
    "# scale the data by eigenvalues to get unit variance\n",
    "x_white = x_rot / np.sqrt(l)\n",
    "# have the whitened data be closer to the original data\n",
    "x_zca = np.dot(x_white, u.T)"
   ]
  },
  {
   "cell_type": "code",
   "execution_count": 36,
   "id": "2e044f7f",
   "metadata": {},
   "outputs": [],
   "source": [
    "def compute_coeff(samples):\n",
    "    R = np.cov(samples, rowvar=False)\n",
    "    eig_val, _ = np.linalg.eig(R)\n",
    "    return np.max(eig_val)/np.min(eig_val)"
   ]
  },
  {
   "cell_type": "code",
   "execution_count": 37,
   "id": "0d7a8313",
   "metadata": {},
   "outputs": [
    {
     "data": {
      "text/plain": [
       "1.2163579886398042"
      ]
     },
     "execution_count": 37,
     "metadata": {},
     "output_type": "execute_result"
    }
   ],
   "source": [
    "compute_coeff(x)"
   ]
  },
  {
   "cell_type": "code",
   "execution_count": 38,
   "id": "9e03d2d6",
   "metadata": {},
   "outputs": [
    {
     "data": {
      "text/plain": [
       "1.0000000000000113"
      ]
     },
     "execution_count": 38,
     "metadata": {},
     "output_type": "execute_result"
    }
   ],
   "source": [
    "compute_coeff(x_zca)"
   ]
  },
  {
   "cell_type": "code",
   "execution_count": null,
   "id": "33824e7f",
   "metadata": {},
   "outputs": [],
   "source": []
  }
 ],
 "metadata": {
  "kernelspec": {
   "display_name": "Python 3 (ipykernel)",
   "language": "python",
   "name": "python3"
  },
  "language_info": {
   "codemirror_mode": {
    "name": "ipython",
    "version": 3
   },
   "file_extension": ".py",
   "mimetype": "text/x-python",
   "name": "python",
   "nbconvert_exporter": "python",
   "pygments_lexer": "ipython3",
   "version": "3.8.12"
  },
  "toc": {
   "base_numbering": 1,
   "nav_menu": {},
   "number_sections": true,
   "sideBar": true,
   "skip_h1_title": false,
   "title_cell": "Table of Contents",
   "title_sidebar": "Contents",
   "toc_cell": false,
   "toc_position": {},
   "toc_section_display": true,
   "toc_window_display": false
  },
  "varInspector": {
   "cols": {
    "lenName": 16,
    "lenType": 16,
    "lenVar": 40
   },
   "kernels_config": {
    "python": {
     "delete_cmd_postfix": "",
     "delete_cmd_prefix": "del ",
     "library": "var_list.py",
     "varRefreshCmd": "print(var_dic_list())"
    },
    "r": {
     "delete_cmd_postfix": ") ",
     "delete_cmd_prefix": "rm(",
     "library": "var_list.r",
     "varRefreshCmd": "cat(var_dic_list()) "
    }
   },
   "types_to_exclude": [
    "module",
    "function",
    "builtin_function_or_method",
    "instance",
    "_Feature"
   ],
   "window_display": false
  }
 },
 "nbformat": 4,
 "nbformat_minor": 5
}
