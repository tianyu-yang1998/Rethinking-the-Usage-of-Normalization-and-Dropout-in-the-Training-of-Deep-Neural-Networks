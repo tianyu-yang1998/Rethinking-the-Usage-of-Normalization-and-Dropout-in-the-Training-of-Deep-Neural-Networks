{
 "cells": [
  {
   "cell_type": "code",
   "execution_count": 1,
   "id": "9a22f814-8815-406a-a9dd-44915b48835f",
   "metadata": {},
   "outputs": [
    {
     "name": "stdout",
     "output_type": "stream",
     "text": [
      "Model Architecture\n",
      "Sequential(\n",
      "  (0): Linear(in_features=352, out_features=16, bias=True)\n",
      "  (1): ReLU()\n",
      "  (2): BatchNorm1d(16, eps=1e-05, momentum=0.1, affine=True, track_running_stats=True)\n",
      "  (3): Dropout(p=0.2, inplace=False)\n",
      "  (4): Linear(in_features=16, out_features=16, bias=True)\n",
      "  (5): ReLU()\n",
      "  (6): BatchNorm1d(16, eps=1e-05, momentum=0.1, affine=True, track_running_stats=True)\n",
      "  (7): Dropout(p=0.2, inplace=False)\n",
      "  (8): Linear(in_features=16, out_features=1, bias=True)\n",
      ")\n",
      "train_length,valid_length 899 99\n"
     ]
    },
    {
     "name": "stderr",
     "output_type": "stream",
     "text": [
      "100%|████████████████████████████████████████████| 4/4 [00:00<00:00, 117.48it/s]\n",
      "100%|████████████████████████████████████████████| 4/4 [00:00<00:00, 301.20it/s]\n",
      "100%|████████████████████████████████████████████| 1/1 [00:00<00:00, 437.41it/s]\n"
     ]
    },
    {
     "name": "stdout",
     "output_type": "stream",
     "text": [
      "epoch:0：\n",
      "Train AUC:0.5973978919631093\n",
      "Test AUC:0.5144736842105263\n"
     ]
    },
    {
     "name": "stderr",
     "output_type": "stream",
     "text": [
      "100%|████████████████████████████████████████████| 4/4 [00:00<00:00, 163.14it/s]\n",
      "100%|████████████████████████████████████████████| 4/4 [00:00<00:00, 305.39it/s]\n",
      "100%|████████████████████████████████████████████| 1/1 [00:00<00:00, 319.93it/s]\n"
     ]
    },
    {
     "name": "stdout",
     "output_type": "stream",
     "text": [
      "epoch:1：\n",
      "Train AUC:0.5982072275550536\n",
      "Test AUC:0.5144736842105263\n"
     ]
    },
    {
     "name": "stderr",
     "output_type": "stream",
     "text": [
      "100%|████████████████████████████████████████████| 4/4 [00:00<00:00, 169.60it/s]\n",
      "100%|████████████████████████████████████████████| 4/4 [00:00<00:00, 317.04it/s]\n",
      "100%|████████████████████████████████████████████| 1/1 [00:00<00:00, 381.82it/s]\n"
     ]
    },
    {
     "name": "stdout",
     "output_type": "stream",
     "text": [
      "epoch:2：\n",
      "Train AUC:0.5989412761151891\n",
      "Test AUC:0.5151315789473685\n"
     ]
    },
    {
     "name": "stderr",
     "output_type": "stream",
     "text": [
      "100%|████████████████████████████████████████████| 4/4 [00:00<00:00, 171.89it/s]\n",
      "100%|████████████████████████████████████████████| 4/4 [00:00<00:00, 357.44it/s]\n",
      "100%|████████████████████████████████████████████| 1/1 [00:00<00:00, 381.37it/s]\n"
     ]
    },
    {
     "name": "stdout",
     "output_type": "stream",
     "text": [
      "epoch:3：\n",
      "Train AUC:0.5999200075287032\n",
      "Test AUC:0.5157894736842106\n"
     ]
    },
    {
     "name": "stderr",
     "output_type": "stream",
     "text": [
      "100%|████████████████████████████████████████████| 4/4 [00:00<00:00, 173.66it/s]\n",
      "100%|████████████████████████████████████████████| 4/4 [00:00<00:00, 327.52it/s]\n",
      "100%|████████████████████████████████████████████| 1/1 [00:00<00:00, 363.36it/s]\n"
     ]
    },
    {
     "name": "stdout",
     "output_type": "stream",
     "text": [
      "epoch:4：\n",
      "Train AUC:0.6012469414643327\n",
      "Test AUC:0.5164473684210527\n"
     ]
    },
    {
     "name": "stderr",
     "output_type": "stream",
     "text": [
      "100%|████████████████████████████████████████████| 4/4 [00:00<00:00, 153.55it/s]\n",
      "100%|████████████████████████████████████████████| 4/4 [00:00<00:00, 338.95it/s]\n",
      "100%|████████████████████████████████████████████| 1/1 [00:00<00:00, 383.99it/s]\n"
     ]
    },
    {
     "name": "stdout",
     "output_type": "stream",
     "text": [
      "epoch:5：\n",
      "Train AUC:0.6025079992471297\n",
      "Test AUC:0.5171052631578947\n"
     ]
    },
    {
     "name": "stderr",
     "output_type": "stream",
     "text": [
      "100%|████████████████████████████████████████████| 4/4 [00:00<00:00, 167.04it/s]\n",
      "100%|████████████████████████████████████████████| 4/4 [00:00<00:00, 375.58it/s]\n",
      "100%|████████████████████████████████████████████| 1/1 [00:00<00:00, 486.41it/s]\n"
     ]
    },
    {
     "name": "stdout",
     "output_type": "stream",
     "text": [
      "epoch:6：\n",
      "Train AUC:0.6053124411820064\n",
      "Test AUC:0.5190789473684211\n"
     ]
    },
    {
     "name": "stderr",
     "output_type": "stream",
     "text": [
      "100%|████████████████████████████████████████████| 4/4 [00:00<00:00, 177.23it/s]\n",
      "100%|████████████████████████████████████████████| 4/4 [00:00<00:00, 306.91it/s]\n",
      "100%|████████████████████████████████████████████| 1/1 [00:00<00:00, 367.37it/s]\n"
     ]
    },
    {
     "name": "stdout",
     "output_type": "stream",
     "text": [
      "epoch:7：\n",
      "Train AUC:0.6094814605684171\n",
      "Test AUC:0.5223684210526316\n"
     ]
    },
    {
     "name": "stderr",
     "output_type": "stream",
     "text": [
      "100%|████████████████████████████████████████████| 4/4 [00:00<00:00, 172.34it/s]\n",
      "100%|████████████████████████████████████████████| 4/4 [00:00<00:00, 351.98it/s]\n",
      "100%|████████████████████████████████████████████| 1/1 [00:00<00:00, 334.42it/s]\n"
     ]
    },
    {
     "name": "stdout",
     "output_type": "stream",
     "text": [
      "epoch:8：\n",
      "Train AUC:0.6154573687182383\n",
      "Test AUC:0.5335526315789474\n"
     ]
    },
    {
     "name": "stderr",
     "output_type": "stream",
     "text": [
      "100%|████████████████████████████████████████████| 4/4 [00:00<00:00, 167.55it/s]\n",
      "100%|████████████████████████████████████████████| 4/4 [00:00<00:00, 350.08it/s]\n",
      "100%|████████████████████████████████████████████| 1/1 [00:00<00:00, 401.45it/s]"
     ]
    },
    {
     "name": "stdout",
     "output_type": "stream",
     "text": [
      "epoch:9：\n",
      "Train AUC:0.6237107095802749\n",
      "Test AUC:0.5388157894736842\n",
      "train_auc [0.5973978919631093, 0.5982072275550536, 0.5989412761151891, 0.5999200075287032, 0.6012469414643327, 0.6025079992471297, 0.6053124411820064, 0.6094814605684171, 0.6154573687182383, 0.6237107095802749]\n",
      "test_auc [0.5144736842105263, 0.5144736842105263, 0.5151315789473685, 0.5157894736842106, 0.5164473684210527, 0.5171052631578947, 0.5190789473684211, 0.5223684210526316, 0.5335526315789474, 0.5388157894736842]\n"
     ]
    },
    {
     "name": "stderr",
     "output_type": "stream",
     "text": [
      "\n"
     ]
    }
   ],
   "source": [
    "import numpy as np\n",
    "import pandas as pd\n",
    "import torch\n",
    "from WideAndDeep_pytorch.wide_deep import WideAndDeepModel\n",
    "from WideAndDeep_pytorch.avazu import AvazuDataset\n",
    "from WideAndDeep_pytorch.train import train,test,EarlyStopper\n",
    "from torch.utils.data import DataLoader\n",
    "from IPython.core.interactiveshell import  InteractiveShell\n",
    "InteractiveShell.ast_node_interactivity='all'\n",
    "pd.set_option('max_columns',600)\n",
    "pd.set_option('max_rows',500)\n",
    "torch.manual_seed(0)\n",
    "\n",
    "# load dataset\n",
    "#dataset=AvazuDataset('./data/train_150m.csv',rebuild_cache=False)\n",
    "dataset=AvazuDataset('./data/train_toy.csv',rebuild_cache=False) # reach out the author to get small/big dataset \n",
    "model=WideAndDeepModel(dataset.field_dims, embed_dim=16,mlp_dims=(16, 16), dropout=0.2)\n",
    "\n",
    "\n",
    "#split dataset into train/test\n",
    "train_length = int(len(dataset) * 0.9)\n",
    "valid_length = int(len(dataset) * 0.1)\n",
    "print(\"train_length,valid_length\",train_length,valid_length)\n",
    "test_length = len(dataset) - train_length - valid_length\n",
    "train_dataset, valid_dataset, test_dataset = torch.utils.data.random_split(\n",
    "    dataset, (train_length, valid_length, test_length))\n",
    "\n",
    "#DataLoader\n",
    "train_data_loader = DataLoader(train_dataset, batch_size=256, num_workers=0)\n",
    "valid_data_loader = DataLoader(valid_dataset, batch_size=256, num_workers=0)\n",
    "test_data_loader = DataLoader(test_dataset, batch_size=256, num_workers=0)\n",
    "\n",
    "\n",
    "\n",
    "criterion = torch.nn.BCELoss()\n",
    "optimizer = torch.optim.Adam(params=model.parameters(), lr=0.001, weight_decay=0.000001)\n",
    "\n",
    "# Training\n",
    "train_auc = []\n",
    "test_auc = []\n",
    "\n",
    "for epoch_i in range(10):\n",
    "    device = torch.device('cuda' if torch.cuda.is_available else 'cpu')\n",
    "    #device = None\n",
    "    train(model, optimizer, train_data_loader, criterion, device=device)\n",
    "    auc_train = test(model, train_data_loader, device=device) # test\n",
    "    auc_valid = test(model, valid_data_loader, device=device)\n",
    "    #auc_test = test(model, test_data_loader, device=None)\n",
    "    print('epoch:{}：'.format(epoch_i))\n",
    "    print('Train AUC:{}'.format(auc_train))\n",
    "    print('Test AUC:{}'.format(auc_valid))\n",
    "    train_auc.append(auc_train)\n",
    "    test_auc.append(auc_valid)\n",
    "\n",
    "print('train_auc',train_auc)\n",
    "print('test_auc',test_auc)"
   ]
  },
  {
   "cell_type": "code",
   "execution_count": null,
   "id": "88039d1d",
   "metadata": {},
   "outputs": [],
   "source": []
  }
 ],
 "metadata": {
  "kernelspec": {
   "display_name": "Python 3 (ipykernel)",
   "language": "python",
   "name": "python3"
  },
  "language_info": {
   "codemirror_mode": {
    "name": "ipython",
    "version": 3
   },
   "file_extension": ".py",
   "mimetype": "text/x-python",
   "name": "python",
   "nbconvert_exporter": "python",
   "pygments_lexer": "ipython3",
   "version": "3.8.8"
  }
 },
 "nbformat": 4,
 "nbformat_minor": 5
}
